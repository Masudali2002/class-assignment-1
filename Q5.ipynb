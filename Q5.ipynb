{
 "cells": [
  {
   "cell_type": "code",
   "execution_count": 1,
   "id": "521c8328-6927-47f6-9688-f1fde810c123",
   "metadata": {},
   "outputs": [],
   "source": [
    "#Q5.What is method overriding in python? Write a python code to demonstrate method overriding."
   ]
  },
  {
   "cell_type": "code",
   "execution_count": 2,
   "id": "93ce37cb-5d52-485d-b016-dff22fa9ce4e",
   "metadata": {},
   "outputs": [],
   "source": [
    "#1..ans>In object-oriented programming overriding is a feature where child class can have a specific characteristic which is already defined in parent class."
   ]
  },
  {
   "cell_type": "code",
   "execution_count": 11,
   "id": "137788f6-4657-4b96-9aa8-0bb954ec140a",
   "metadata": {},
   "outputs": [],
   "source": [
    "class employee:\n",
    "    def add(self,a,b):\n",
    "        print('the sum of two is ',a+b)"
   ]
  },
  {
   "cell_type": "code",
   "execution_count": 12,
   "id": "8ceb7a3e-d40d-4ecd-930d-346c47297c7e",
   "metadata": {},
   "outputs": [],
   "source": [
    "class department(employee):\n",
    "    def add(self,a,b,c):\n",
    "        print(\"the sum of three is \",a+b+c)"
   ]
  },
  {
   "cell_type": "code",
   "execution_count": 13,
   "id": "c7347724-5953-44c2-8559-d859f16a6532",
   "metadata": {},
   "outputs": [],
   "source": [
    "emp=employee()"
   ]
  },
  {
   "cell_type": "code",
   "execution_count": 14,
   "id": "46c3a88f-5fa1-4304-959e-91c17f1d54e7",
   "metadata": {},
   "outputs": [
    {
     "name": "stdout",
     "output_type": "stream",
     "text": [
      "the sum of two is  90\n"
     ]
    }
   ],
   "source": [
    "emp.add(50,40)"
   ]
  },
  {
   "cell_type": "code",
   "execution_count": 15,
   "id": "fa844d3e-9608-4f7c-82c1-c4464da9984d",
   "metadata": {},
   "outputs": [],
   "source": [
    "dept=department()"
   ]
  },
  {
   "cell_type": "code",
   "execution_count": 16,
   "id": "e67335cd-fbf5-4fbd-9966-ef6d209261e8",
   "metadata": {},
   "outputs": [
    {
     "name": "stdout",
     "output_type": "stream",
     "text": [
      "the sum of three is  100\n"
     ]
    }
   ],
   "source": [
    "dept.add(50,40,10)"
   ]
  },
  {
   "cell_type": "code",
   "execution_count": null,
   "id": "a982189c-4175-48fb-b52c-aa2e0a94c31d",
   "metadata": {},
   "outputs": [],
   "source": []
  }
 ],
 "metadata": {
  "kernelspec": {
   "display_name": "Python 3 (ipykernel)",
   "language": "python",
   "name": "python3"
  },
  "language_info": {
   "codemirror_mode": {
    "name": "ipython",
    "version": 3
   },
   "file_extension": ".py",
   "mimetype": "text/x-python",
   "name": "python",
   "nbconvert_exporter": "python",
   "pygments_lexer": "ipython3",
   "version": "3.12.0"
  }
 },
 "nbformat": 4,
 "nbformat_minor": 5
}
