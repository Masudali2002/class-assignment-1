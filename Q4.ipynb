{
 "cells": [
  {
   "cell_type": "code",
   "execution_count": 1,
   "id": "f7f4b58f-ef54-4f52-a3c3-30d642ceabaa",
   "metadata": {},
   "outputs": [],
   "source": [
    "#Q4. What are getter and setter in python? Create a class and create a getter and a setter method in this class."
   ]
  },
  {
   "cell_type": "code",
   "execution_count": 3,
   "id": "b6b231ce-8873-4999-80c4-79e20505201e",
   "metadata": {},
   "outputs": [],
   "source": [
    "#1....ans>In object-orinted programmming getter helps user to access the vlaue of the private member."
   ]
  },
  {
   "cell_type": "code",
   "execution_count": 4,
   "id": "67f45d33-ad0f-42ce-93da-8d785ec626ba",
   "metadata": {},
   "outputs": [],
   "source": [
    "#2...ans>In object-oriented programming setter hepls user to set the value of the private member."
   ]
  },
  {
   "cell_type": "code",
   "execution_count": 6,
   "id": "f8087be2-99ae-4ae8-94cc-7e5b375f2c11",
   "metadata": {},
   "outputs": [],
   "source": [
    "class student:\n",
    "    def __init__(self,name,roll,marks):\n",
    "        self.__name=name\n",
    "        self.__roll=roll\n",
    "        self.__marks=0\n",
    "    def get_marks(self):\n",
    "        return self.__marks\n",
    "    def set_marks(self,marks):\n",
    "        self.__marks=marks if marks>0 else 0"
   ]
  },
  {
   "cell_type": "code",
   "execution_count": 7,
   "id": "bece2c9a-92be-4cac-8b1e-3526f128486e",
   "metadata": {},
   "outputs": [],
   "source": [
    "m=student(\"masud\",57,0)"
   ]
  },
  {
   "cell_type": "code",
   "execution_count": 8,
   "id": "e203972d-a212-4863-8156-daa77af54f27",
   "metadata": {},
   "outputs": [],
   "source": [
    "m.set_marks(8.1)"
   ]
  },
  {
   "cell_type": "code",
   "execution_count": 9,
   "id": "aa86d8cb-585c-4405-89c9-63c5f7ea1488",
   "metadata": {},
   "outputs": [
    {
     "data": {
      "text/plain": [
       "8.1"
      ]
     },
     "execution_count": 9,
     "metadata": {},
     "output_type": "execute_result"
    }
   ],
   "source": [
    "m.get_marks()"
   ]
  },
  {
   "cell_type": "code",
   "execution_count": null,
   "id": "9095dd1c-50c4-47f3-b3e9-4e4c5faaeef0",
   "metadata": {},
   "outputs": [],
   "source": []
  }
 ],
 "metadata": {
  "kernelspec": {
   "display_name": "Python 3 (ipykernel)",
   "language": "python",
   "name": "python3"
  },
  "language_info": {
   "codemirror_mode": {
    "name": "ipython",
    "version": 3
   },
   "file_extension": ".py",
   "mimetype": "text/x-python",
   "name": "python",
   "nbconvert_exporter": "python",
   "pygments_lexer": "ipython3",
   "version": "3.12.0"
  }
 },
 "nbformat": 4,
 "nbformat_minor": 5
}
