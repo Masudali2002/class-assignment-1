{
 "cells": [
  {
   "cell_type": "code",
   "execution_count": null,
   "id": "504138d3-ef06-4ff8-a46a-4b62219fa4c3",
   "metadata": {},
   "outputs": [],
   "source": []
  },
  {
   "cell_type": "code",
   "execution_count": 1,
   "id": "86ff52b0-d4bc-4e4d-a12e-27994af6e4c3",
   "metadata": {},
   "outputs": [],
   "source": [
    "#Q2. Create a child class car from the vehicle class created in Que 1, which will inherit the vehicle class.\n",
    "#Create a method named seating_capacity which takes capacity as an argument and returns the name of\n",
    "#the vehicle and its seating capacity."
   ]
  },
  {
   "cell_type": "code",
   "execution_count": 10,
   "id": "bf853d1e-5ca9-4b8e-9845-04850304d828",
   "metadata": {},
   "outputs": [],
   "source": [
    "class vehicle:\n",
    "    def __init__(self,name,speed,avg):\n",
    "        self.name_of_vehicle=name\n",
    "        self.max_speed=speed\n",
    "        self.average_of_vehicle=avg\n",
    "    def details1(self):\n",
    "        return self.name_of_vehicle,self.max_speed,self.average_of_vehicle"
   ]
  },
  {
   "cell_type": "code",
   "execution_count": 16,
   "id": "8f1f1459-6ab5-4a8e-b713-c90f406c642a",
   "metadata": {},
   "outputs": [],
   "source": [
    "class vehicle2(vehicle):\n",
    "    def __init__(self,name,speed,avg,seat):\n",
    "        super().__init__(name,speed,avg)\n",
    "        self.seat_capacity=seat\n",
    "    def details2(self):\n",
    "        return self.name_of_vehicle,self.seat_capacity"
   ]
  },
  {
   "cell_type": "code",
   "execution_count": 17,
   "id": "49ca9448-9e2d-4f5f-8043-606a8cbf6229",
   "metadata": {},
   "outputs": [],
   "source": [
    "car=vehicle2(\"bmw\",180,50,6)"
   ]
  },
  {
   "cell_type": "code",
   "execution_count": 18,
   "id": "ec8f9625-cf74-4281-b957-31d03334526e",
   "metadata": {},
   "outputs": [
    {
     "data": {
      "text/plain": [
       "('bmw', 180, 50)"
      ]
     },
     "execution_count": 18,
     "metadata": {},
     "output_type": "execute_result"
    }
   ],
   "source": [
    "car.details1()"
   ]
  },
  {
   "cell_type": "code",
   "execution_count": 19,
   "id": "97c96306-f0df-4cee-aab8-534b71ac1615",
   "metadata": {},
   "outputs": [
    {
     "data": {
      "text/plain": [
       "('bmw', 6)"
      ]
     },
     "execution_count": 19,
     "metadata": {},
     "output_type": "execute_result"
    }
   ],
   "source": [
    "car.details2()"
   ]
  },
  {
   "cell_type": "code",
   "execution_count": null,
   "id": "3537bff9-0a7b-43c9-8fb2-a54f05d8e17b",
   "metadata": {},
   "outputs": [],
   "source": []
  }
 ],
 "metadata": {
  "kernelspec": {
   "display_name": "Python 3 (ipykernel)",
   "language": "python",
   "name": "python3"
  },
  "language_info": {
   "codemirror_mode": {
    "name": "ipython",
    "version": 3
   },
   "file_extension": ".py",
   "mimetype": "text/x-python",
   "name": "python",
   "nbconvert_exporter": "python",
   "pygments_lexer": "ipython3",
   "version": "3.12.0"
  }
 },
 "nbformat": 4,
 "nbformat_minor": 5
}
