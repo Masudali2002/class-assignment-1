{
 "cells": [
  {
   "cell_type": "code",
   "execution_count": 1,
   "id": "7e58fa87-3a92-4492-a0ff-fb1d0d94ac4e",
   "metadata": {},
   "outputs": [],
   "source": [
    "#Q3. What is multiple inheritance? Write a python code to demonstrate multiple inheritance."
   ]
  },
  {
   "cell_type": "code",
   "execution_count": 2,
   "id": "453e45ef-3368-4507-bc63-46d193de2d1b",
   "metadata": {},
   "outputs": [],
   "source": [
    "#1...ans>If a class is inherit from the multiple parent class,then it is known as multiple inheritance."
   ]
  },
  {
   "cell_type": "code",
   "execution_count": 3,
   "id": "a46d4170-ecd1-4063-a817-d641c1481d99",
   "metadata": {},
   "outputs": [],
   "source": [
    "class fun1:\n",
    "    def test1(self):\n",
    "        return \"this is object of fun1\""
   ]
  },
  {
   "cell_type": "code",
   "execution_count": 4,
   "id": "f53fab96-fe55-4411-804f-682afcfd30f6",
   "metadata": {},
   "outputs": [],
   "source": [
    "class fun2:\n",
    "    def test2(self):\n",
    "        return \"this is object of fun2\""
   ]
  },
  {
   "cell_type": "code",
   "execution_count": 5,
   "id": "7acd4f87-e0f5-47e0-a9cd-0ab6c3a46e5e",
   "metadata": {},
   "outputs": [],
   "source": [
    "class fun3(fun1,fun2):\n",
    "    pass"
   ]
  },
  {
   "cell_type": "code",
   "execution_count": 6,
   "id": "dc77e9e4-349d-44d4-96b5-26a415ad9726",
   "metadata": {},
   "outputs": [],
   "source": [
    "m=fun3()"
   ]
  },
  {
   "cell_type": "code",
   "execution_count": 8,
   "id": "d72bc622-1f74-4d6d-8d99-d8ae4069be7c",
   "metadata": {},
   "outputs": [
    {
     "data": {
      "text/plain": [
       "'this is object of fun1'"
      ]
     },
     "execution_count": 8,
     "metadata": {},
     "output_type": "execute_result"
    }
   ],
   "source": [
    "m.test1()"
   ]
  },
  {
   "cell_type": "code",
   "execution_count": 9,
   "id": "a6286ee8-5026-4d3e-bd04-8948aa51f9c4",
   "metadata": {},
   "outputs": [
    {
     "data": {
      "text/plain": [
       "'this is object of fun2'"
      ]
     },
     "execution_count": 9,
     "metadata": {},
     "output_type": "execute_result"
    }
   ],
   "source": [
    "m.test2()s"
   ]
  },
  {
   "cell_type": "code",
   "execution_count": null,
   "id": "02eb5f52-2ce9-4f62-ae80-e5052f515fae",
   "metadata": {},
   "outputs": [],
   "source": []
  }
 ],
 "metadata": {
  "kernelspec": {
   "display_name": "Python 3 (ipykernel)",
   "language": "python",
   "name": "python3"
  },
  "language_info": {
   "codemirror_mode": {
    "name": "ipython",
    "version": 3
   },
   "file_extension": ".py",
   "mimetype": "text/x-python",
   "name": "python",
   "nbconvert_exporter": "python",
   "pygments_lexer": "ipython3",
   "version": "3.12.0"
  }
 },
 "nbformat": 4,
 "nbformat_minor": 5
}
